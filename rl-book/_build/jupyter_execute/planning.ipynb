{
 "cells": [
  {
   "cell_type": "markdown",
   "metadata": {
    "collapsed": false,
    "pycharm": {
     "name": "#%% md\n"
    }
   },
   "source": [
    "# Planning\n",
    "\n",
    "Planning is a method of simulating a sequence of actions in an environment model before actually taking an action in the real environment.\n",
    "\n",
    "Concepts covered:\n",
    "1. Cross entropy method\n",
    "2. Monte Carlo tree search\n",
    "3. Probabilistic ensembles"
   ]
  },
  {
   "cell_type": "markdown",
   "metadata": {
    "collapsed": false,
    "pycharm": {
     "name": "#%% md\n"
    }
   },
   "source": [
    "## Cross Entropy Method\n",
    "\n",
    "The Cross Entroy Method (CEM) is a gradient-free optimization method commonly used for planning in model-based reinforcement learning.\n",
    "\n",
    "CEM Algorithm\n",
    "1. Create a Gaussian distribution $N(\\mu,\\sigma)$ that describes the weights $\\theta$ of the neural network.\n",
    "2. Sample $N$ batch samples of $\\theta$ from the Gaussian.\n",
    "3. Evaluate all $N$ samples of $\\theta$ using the value function, e.g. running trials.\n",
    "4. Select the top % of the samples of $\\theta$ and compute the new $\\mu$ and $\\sigma$ to parameterise the new Gaussian distribution.\n",
    "5. Repeat steps 1-4 until convergence."
   ]
  },
  {
   "cell_type": "code",
   "execution_count": 1,
   "metadata": {
    "collapsed": true
   },
   "outputs": [],
   "source": [
    "import numpy as np\n",
    "import tensorflow_probability as tfp\n",
    "tfd = tfp.distributions\n",
    "import gym\n",
    "import warnings\n",
    "warnings.filterwarnings(\"ignore\")"
   ]
  },
  {
   "cell_type": "code",
   "execution_count": 2,
   "metadata": {
    "collapsed": false,
    "pycharm": {
     "name": "#%%\n"
    }
   },
   "outputs": [],
   "source": [
    "# RL Gym\n",
    "env = gym.make('CartPole-v1')\n",
    "\n",
    "# Initialisation\n",
    "n = 10  # number of candidate policies\n",
    "top_k = 0.40  # top % selected for next iteration\n",
    "mean = np.zeros((5,2))  # shape = (n_parameters, n_actions)\n",
    "stddev = np.ones((5,2))  # shape = (n_parameters, n_actions)"
   ]
  },
  {
   "cell_type": "code",
   "execution_count": 3,
   "metadata": {
    "collapsed": false,
    "pycharm": {
     "name": "#%%\n"
    }
   },
   "outputs": [],
   "source": [
    "def get_batch_weights(mean, stddev, n):\n",
    "    mvn = tfd.MultivariateNormalDiag(\n",
    "        loc=mean,\n",
    "        scale_diag=stddev)\n",
    "    return mvn.sample(n).numpy()\n",
    "\n",
    "def policy(obs, weights):\n",
    "    return np.argmax(obs @ weights[:4,:] + weights[4])\n",
    "\n",
    "def run_trial(weights, render=False):\n",
    "    obs = env.reset()\n",
    "    done = False\n",
    "    reward = 0\n",
    "    while not done:\n",
    "        a = policy(obs, weights)\n",
    "        obs, r, done, _ = env.step(a)\n",
    "        reward += r\n",
    "        if render:\n",
    "            env.render()\n",
    "    return reward\n",
    "\n",
    "def get_new_mean_stddev(rewards, batch_weights):\n",
    "    idx = np.argsort(rewards)[::-1][:int(n*top_k)]\n",
    "    mean = np.mean(batch_weights[idx], axis=0)\n",
    "    stddev = np.sqrt(np.var(batch_weights[idx], axis=0))\n",
    "    return mean, stddev"
   ]
  },
  {
   "cell_type": "code",
   "execution_count": 4,
   "metadata": {
    "collapsed": false,
    "pycharm": {
     "name": "#%%\n"
    }
   },
   "outputs": [
    {
     "name": "stdout",
     "output_type": "stream",
     "text": [
      "[9.0, 10.0, 9.0, 27.0, 12.0, 8.0, 10.0, 37.0, 10.0, 12.0]\n",
      "[13.0, 23.0, 9.0, 15.0, 8.0, 16.0, 23.0, 45.0, 9.0, 25.0]\n",
      "[16.0, 33.0, 18.0, 30.0, 17.0, 17.0, 34.0, 21.0, 59.0, 35.0]\n",
      "[27.0, 19.0, 17.0, 26.0, 27.0, 25.0, 36.0, 45.0, 30.0, 34.0]\n",
      "[26.0, 28.0, 50.0, 11.0, 27.0, 27.0, 30.0, 71.0, 42.0, 29.0]\n",
      "[33.0, 25.0, 31.0, 30.0, 27.0, 21.0, 29.0, 33.0, 37.0, 44.0]\n",
      "[38.0, 37.0, 24.0, 34.0, 84.0, 20.0, 23.0, 28.0, 45.0, 52.0]\n",
      "[29.0, 23.0, 25.0, 38.0, 28.0, 32.0, 67.0, 25.0, 30.0, 26.0]\n",
      "[34.0, 27.0, 65.0, 32.0, 70.0, 38.0, 41.0, 24.0, 21.0, 27.0]\n",
      "[28.0, 39.0, 38.0, 47.0, 31.0, 22.0, 35.0, 37.0, 45.0, 20.0]\n",
      "[58.0, 20.0, 75.0, 23.0, 23.0, 36.0, 31.0, 27.0, 31.0, 29.0]\n",
      "[35.0, 32.0, 41.0, 33.0, 40.0, 52.0, 28.0, 34.0, 28.0, 46.0]\n"
     ]
    },
    {
     "name": "stdout",
     "output_type": "stream",
     "text": [
      "[27.0, 24.0, 54.0, 52.0, 27.0, 29.0, 38.0, 42.0, 28.0, 47.0]\n",
      "[30.0, 27.0, 27.0, 31.0, 38.0, 28.0, 30.0, 20.0, 85.0, 45.0]\n",
      "[47.0, 24.0, 53.0, 68.0, 60.0, 49.0, 28.0, 32.0, 54.0, 79.0]\n",
      "[24.0, 39.0, 25.0, 36.0, 101.0, 58.0, 24.0, 27.0, 37.0, 37.0]\n",
      "[23.0, 63.0, 24.0, 34.0, 24.0, 25.0, 34.0, 54.0, 55.0, 41.0]\n",
      "[39.0, 48.0, 23.0, 87.0, 38.0, 26.0, 48.0, 27.0, 23.0, 59.0]\n",
      "[49.0, 32.0, 41.0, 51.0, 38.0, 27.0, 30.0, 46.0, 26.0, 26.0]\n",
      "[42.0, 23.0, 40.0, 24.0, 31.0, 29.0, 51.0, 22.0, 35.0, 43.0]\n"
     ]
    }
   ],
   "source": [
    "for i in range(20):\n",
    "    batch_weights = get_batch_weights(mean, stddev, n)\n",
    "    rewards = [run_trial(weights) for weights in batch_weights]\n",
    "    mean, stddev = get_new_mean_stddev(rewards, batch_weights)\n",
    "    print(rewards)"
   ]
  },
  {
   "cell_type": "code",
   "execution_count": 5,
   "metadata": {
    "collapsed": false,
    "pycharm": {
     "name": "#%%\n"
    }
   },
   "outputs": [
    {
     "data": {
      "text/plain": [
       "(array([[-2.97851359,  4.88814473],\n",
       "        [ 0.54255219, -4.37263154],\n",
       "        [ 0.3179081 ,  0.02582262],\n",
       "        [-1.71460631,  0.07162347],\n",
       "        [ 0.52532392, -0.24820291]]),\n",
       " array([[5.46232708e-03, 1.19883604e-02],\n",
       "        [3.09637559e-04, 1.72948488e-02],\n",
       "        [1.75588319e-02, 3.66150916e-05],\n",
       "        [2.44638998e-03, 2.06700714e-05],\n",
       "        [5.37123333e-04, 1.22797736e-02]]))"
      ]
     },
     "execution_count": 5,
     "metadata": {},
     "output_type": "execute_result"
    }
   ],
   "source": [
    "mean, stddev"
   ]
  },
  {
   "cell_type": "code",
   "execution_count": 6,
   "metadata": {
    "collapsed": false,
    "pycharm": {
     "name": "#%%\n"
    }
   },
   "outputs": [],
   "source": [
    "best_weights = get_batch_weights(mean, stddev, 1)[0]"
   ]
  },
  {
   "cell_type": "code",
   "execution_count": 7,
   "metadata": {
    "collapsed": false,
    "pycharm": {
     "name": "#%%\n"
    }
   },
   "outputs": [
    {
     "data": {
      "text/plain": [
       "37.0"
      ]
     },
     "execution_count": 7,
     "metadata": {},
     "output_type": "execute_result"
    }
   ],
   "source": [
    "run_trial(best_weights, render=False)"
   ]
  },
  {
   "cell_type": "markdown",
   "metadata": {
    "collapsed": false,
    "pycharm": {
     "name": "#%% md\n"
    }
   },
   "source": [
    "## Monte Carlo Tree Search\n",
    "\n",
    "Upcoming"
   ]
  },
  {
   "cell_type": "markdown",
   "metadata": {
    "collapsed": false,
    "pycharm": {
     "name": "#%% md\n"
    }
   },
   "source": [
    "## Probabilistic Ensembles\n",
    "\n",
    "Upcoming"
   ]
  }
 ],
 "metadata": {
  "kernelspec": {
   "display_name": "Python 3",
   "language": "python",
   "name": "python3"
  },
  "language_info": {
   "codemirror_mode": {
    "name": "ipython",
    "version": 3
   },
   "file_extension": ".py",
   "mimetype": "text/x-python",
   "name": "python",
   "nbconvert_exporter": "python",
   "pygments_lexer": "ipython3",
   "version": "3.9.7"
  }
 },
 "nbformat": 4,
 "nbformat_minor": 0
}